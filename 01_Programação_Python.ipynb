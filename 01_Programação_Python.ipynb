{
  "nbformat": 4,
  "nbformat_minor": 0,
  "metadata": {
    "colab": {
      "provenance": [],
      "toc_visible": true,
      "authorship_tag": "ABX9TyP+sRdejC+EeeERy98mRnBi",
      "include_colab_link": true
    },
    "kernelspec": {
      "name": "python3",
      "display_name": "Python 3"
    },
    "language_info": {
      "name": "python"
    }
  },
  "cells": [
    {
      "cell_type": "markdown",
      "metadata": {
        "id": "view-in-github",
        "colab_type": "text"
      },
      "source": [
        "<a href=\"https://colab.research.google.com/github/wjosue/python-analise-de-dados-youtube-dataviking/blob/main/01_Programa%C3%A7%C3%A3o_Python.ipynb\" target=\"_parent\"><img src=\"https://colab.research.google.com/assets/colab-badge.svg\" alt=\"Open In Colab\"/></a>"
      ]
    },
    {
      "cell_type": "markdown",
      "source": [
        "# Módulo 1 - Programação em Python\n",
        "\n",
        "\n",
        "> Neste módulo vamos estudar a sintaxe nativa do Python\n",
        "\n",
        "\n",
        "1.   Sintaxe básica\n",
        "\n",
        "\n",
        "```\n",
        "    Podemos utilizar '' (aspas simpes)\n",
        "    Podemos utilizar \" (aspas duplas)\n",
        "    Utilizando o \\n para pular uma linha na impressão do valor\n",
        "    Usamos o hastag # para comentar algo\n",
        "```\n",
        "\n"
      ],
      "metadata": {
        "id": "-HqKhhNKPk65"
      }
    },
    {
      "cell_type": "code",
      "source": [
        "print('Bem vindo ao curso de Python!')"
      ],
      "metadata": {
        "colab": {
          "base_uri": "https://localhost:8080/"
        },
        "id": "00WToc54R39D",
        "outputId": "11401baf-ab0e-44f8-b910-97f522fd81d2"
      },
      "execution_count": 2,
      "outputs": [
        {
          "output_type": "stream",
          "name": "stdout",
          "text": [
            "Bem vindo ao curso de Python!\n"
          ]
        }
      ]
    }
  ]
}